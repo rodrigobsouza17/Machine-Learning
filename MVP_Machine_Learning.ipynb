{
  "nbformat": 4,
  "nbformat_minor": 0,
  "metadata": {
    "colab": {
      "provenance": [],
      "authorship_tag": "ABX9TyP5rYZOfvfslPu798g0kN+K",
      "include_colab_link": true
    },
    "kernelspec": {
      "name": "python3",
      "display_name": "Python 3"
    },
    "language_info": {
      "name": "python"
    }
  },
  "cells": [
    {
      "cell_type": "markdown",
      "metadata": {
        "id": "view-in-github",
        "colab_type": "text"
      },
      "source": [
        "<a href=\"https://colab.research.google.com/github/rodrigobsouza17/Machine-Learning/blob/main/MVP_Machine_Learning.ipynb\" target=\"_parent\"><img src=\"https://colab.research.google.com/assets/colab-badge.svg\" alt=\"Open In Colab\"/></a>"
      ]
    },
    {
      "cell_type": "markdown",
      "source": [
        "# **MVP da Sprint de Machine Learning & Analytics**"
      ],
      "metadata": {
        "id": "oxt9A_ML9Pgk"
      }
    },
    {
      "cell_type": "markdown",
      "source": [
        "# **Introdução:**"
      ],
      "metadata": {
        "id": "UwyVOshecnGT"
      }
    },
    {
      "cell_type": "markdown",
      "source": [
        "Este projeto versará sobre ter um maior balizamento em relação à possibilidade de se prever os resultados dos jogos dos times participantes do Campeonato Brasileiro de Futebol.\n",
        "A base de dados que será utlizada para a execução do teste provém do site Football Data, o qual trabalha realizando apostas esportivas mas que também agrega resultados de vários campeonatos ao redor do mundo. Teremos como referência os resultados dos jogos dos Campeonatos Brasileiros desde o ano de 2012 até o dia 08/11/2024."
      ],
      "metadata": {
        "id": "NBDYdVRLA-Vj"
      }
    },
    {
      "cell_type": "markdown",
      "source": [
        "# **Desenvolvimento:**"
      ],
      "metadata": {
        "id": "rAeriSHuc661"
      }
    },
    {
      "cell_type": "markdown",
      "source": [
        "**1º Passo: Fazendo as importações necessárias para a execução do Modelo:**"
      ],
      "metadata": {
        "id": "IKk88OJPFQ-J"
      }
    },
    {
      "cell_type": "code",
      "execution_count": null,
      "metadata": {
        "id": "W1h9g2Qj89Ez"
      },
      "outputs": [],
      "source": [
        "# Configuração para não exibir os warnings:\n",
        "import warnings\n",
        "warnings.filterwarnings('ignore')\n",
        "\n",
        "# Imports necessários:\n",
        "import pandas as pd\n",
        "import numpy as np\n",
        "import seaborn as sns\n",
        "import matplotlib.pyplot as plt\n",
        "from sklearn.linear_model import LogisticRegression\n",
        "from sklearn.tree import DecisionTreeClassifier\n",
        "from sklearn.naive_bayes import GaussianNB\n",
        "from sklearn.svm import SVC\n",
        "from sklearn.metrics import accuracy_score , f1_score, precision_score, recall_score\n",
        "from sklearn.metrics import confusion_matrix, classification_report\n",
        "from sklearn.feature_selection import SelectKBest\n",
        "from sklearn.model_selection import  GridSearchCV\n",
        "from sklearn.model_selection import train_test_split\n",
        "from sklearn.preprocessing import StandardScaler, MinMaxScaler\n",
        "from sklearn.preprocessing import scale\n",
        "from sklearn.impute import SimpleImputer\n",
        "from sklearn.pipeline import make_pipeline\n",
        "from IPython.display import display\n",
        "%matplotlib inline"
      ]
    },
    {
      "cell_type": "markdown",
      "source": [
        "**2º Passo: Carga do Dataset:**"
      ],
      "metadata": {
        "id": "bIE2siJ5KYb7"
      }
    },
    {
      "cell_type": "code",
      "source": [
        "url = 'https://raw.githubusercontent.com/rodrigobsouza17/Machine-Learning/main/BRA_V2.csv' # Repositório onde o dataset está armazenado\n",
        "dataset = pd.read_csv (url, delimiter = ',') # Carga do dataset propriamente dita\n",
        "dataset.head () # Visualização das primeiras linhas do dataset carregado\n",
        "\n",
        "# Legenda das colunas:\n",
        "# . Country - País do campeonato\n",
        "# . League - Nome do campeonato\n",
        "# . Date - Data do jogo\n",
        "# . Time - Hora do jogo (Horário do Reino Unido - Lembrando que a Base de Dados é inglesa)\n",
        "# . Home - Time da casa (mandante)\n",
        "# . Away - Time visitante\n",
        "# . HG - Gols do time mandante\n",
        "# . AG - Gols do time visitante\n",
        "# . Res - Resultado do jogo (0 - Empate ; 1 - Vitória do time mandante ; 2 - Vitória do time visitante)\n",
        "# . Demais colunas - Referem-se a odds (probabilidades dos eventos acontecerem) provenientes do site, afinal é um site de apostas"
      ],
      "metadata": {
        "colab": {
          "base_uri": "https://localhost:8080/",
          "height": 290
        },
        "id": "5VkrWh9VKjX2",
        "outputId": "0a085962-c090-432a-a979-2a3711e0215c"
      },
      "execution_count": null,
      "outputs": [
        {
          "output_type": "execute_result",
          "data": {
            "text/plain": [
              "  Country   League  Season        Date   Time          Home         Away   HG  \\\n",
              "0  Brazil  Serie A    2012  19/05/2012  22:30     Palmeiras   Portuguesa  1.0   \n",
              "1  Brazil  Serie A    2012  19/05/2012  22:30  Sport Recife  Flamengo RJ  1.0   \n",
              "2  Brazil  Serie A    2012  20/05/2012  01:00   Figueirense      Nautico  2.0   \n",
              "3  Brazil  Serie A    2012  20/05/2012  20:00   Botafogo RJ    Sao Paulo  4.0   \n",
              "4  Brazil  Serie A    2012  20/05/2012  20:00   Corinthians   Fluminense  0.0   \n",
              "\n",
              "    AG  Res  ...  PSCA  MaxCH  MaxCD  MaxCA  AvgCH  AvgCD  AvgCA  BFECH  \\\n",
              "0  1.0  0.0  ...  5.25   1.76   3.87   5.31   1.69   3.50   4.90    0.0   \n",
              "1  1.0  0.0  ...  2.68   2.83   3.42   2.70   2.59   3.23   2.58    0.0   \n",
              "2  1.0  1.0  ...  6.72   1.67   4.05   7.22   1.59   3.67   5.64    0.0   \n",
              "3  2.0  1.0  ...  3.15   2.49   3.39   3.15   2.35   3.26   2.84    0.0   \n",
              "4  1.0  2.0  ...  4.41   1.96   3.53   4.41   1.89   3.33   3.89    0.0   \n",
              "\n",
              "   BFECD  BFECA  \n",
              "0    0.0    0.0  \n",
              "1    0.0    0.0  \n",
              "2    0.0    0.0  \n",
              "3    0.0    0.0  \n",
              "4    0.0    0.0  \n",
              "\n",
              "[5 rows x 22 columns]"
            ],
            "text/html": [
              "\n",
              "  <div id=\"df-2aadd574-4ec3-4fd6-89b9-156608491c8e\" class=\"colab-df-container\">\n",
              "    <div>\n",
              "<style scoped>\n",
              "    .dataframe tbody tr th:only-of-type {\n",
              "        vertical-align: middle;\n",
              "    }\n",
              "\n",
              "    .dataframe tbody tr th {\n",
              "        vertical-align: top;\n",
              "    }\n",
              "\n",
              "    .dataframe thead th {\n",
              "        text-align: right;\n",
              "    }\n",
              "</style>\n",
              "<table border=\"1\" class=\"dataframe\">\n",
              "  <thead>\n",
              "    <tr style=\"text-align: right;\">\n",
              "      <th></th>\n",
              "      <th>Country</th>\n",
              "      <th>League</th>\n",
              "      <th>Season</th>\n",
              "      <th>Date</th>\n",
              "      <th>Time</th>\n",
              "      <th>Home</th>\n",
              "      <th>Away</th>\n",
              "      <th>HG</th>\n",
              "      <th>AG</th>\n",
              "      <th>Res</th>\n",
              "      <th>...</th>\n",
              "      <th>PSCA</th>\n",
              "      <th>MaxCH</th>\n",
              "      <th>MaxCD</th>\n",
              "      <th>MaxCA</th>\n",
              "      <th>AvgCH</th>\n",
              "      <th>AvgCD</th>\n",
              "      <th>AvgCA</th>\n",
              "      <th>BFECH</th>\n",
              "      <th>BFECD</th>\n",
              "      <th>BFECA</th>\n",
              "    </tr>\n",
              "  </thead>\n",
              "  <tbody>\n",
              "    <tr>\n",
              "      <th>0</th>\n",
              "      <td>Brazil</td>\n",
              "      <td>Serie A</td>\n",
              "      <td>2012</td>\n",
              "      <td>19/05/2012</td>\n",
              "      <td>22:30</td>\n",
              "      <td>Palmeiras</td>\n",
              "      <td>Portuguesa</td>\n",
              "      <td>1.0</td>\n",
              "      <td>1.0</td>\n",
              "      <td>0.0</td>\n",
              "      <td>...</td>\n",
              "      <td>5.25</td>\n",
              "      <td>1.76</td>\n",
              "      <td>3.87</td>\n",
              "      <td>5.31</td>\n",
              "      <td>1.69</td>\n",
              "      <td>3.50</td>\n",
              "      <td>4.90</td>\n",
              "      <td>0.0</td>\n",
              "      <td>0.0</td>\n",
              "      <td>0.0</td>\n",
              "    </tr>\n",
              "    <tr>\n",
              "      <th>1</th>\n",
              "      <td>Brazil</td>\n",
              "      <td>Serie A</td>\n",
              "      <td>2012</td>\n",
              "      <td>19/05/2012</td>\n",
              "      <td>22:30</td>\n",
              "      <td>Sport Recife</td>\n",
              "      <td>Flamengo RJ</td>\n",
              "      <td>1.0</td>\n",
              "      <td>1.0</td>\n",
              "      <td>0.0</td>\n",
              "      <td>...</td>\n",
              "      <td>2.68</td>\n",
              "      <td>2.83</td>\n",
              "      <td>3.42</td>\n",
              "      <td>2.70</td>\n",
              "      <td>2.59</td>\n",
              "      <td>3.23</td>\n",
              "      <td>2.58</td>\n",
              "      <td>0.0</td>\n",
              "      <td>0.0</td>\n",
              "      <td>0.0</td>\n",
              "    </tr>\n",
              "    <tr>\n",
              "      <th>2</th>\n",
              "      <td>Brazil</td>\n",
              "      <td>Serie A</td>\n",
              "      <td>2012</td>\n",
              "      <td>20/05/2012</td>\n",
              "      <td>01:00</td>\n",
              "      <td>Figueirense</td>\n",
              "      <td>Nautico</td>\n",
              "      <td>2.0</td>\n",
              "      <td>1.0</td>\n",
              "      <td>1.0</td>\n",
              "      <td>...</td>\n",
              "      <td>6.72</td>\n",
              "      <td>1.67</td>\n",
              "      <td>4.05</td>\n",
              "      <td>7.22</td>\n",
              "      <td>1.59</td>\n",
              "      <td>3.67</td>\n",
              "      <td>5.64</td>\n",
              "      <td>0.0</td>\n",
              "      <td>0.0</td>\n",
              "      <td>0.0</td>\n",
              "    </tr>\n",
              "    <tr>\n",
              "      <th>3</th>\n",
              "      <td>Brazil</td>\n",
              "      <td>Serie A</td>\n",
              "      <td>2012</td>\n",
              "      <td>20/05/2012</td>\n",
              "      <td>20:00</td>\n",
              "      <td>Botafogo RJ</td>\n",
              "      <td>Sao Paulo</td>\n",
              "      <td>4.0</td>\n",
              "      <td>2.0</td>\n",
              "      <td>1.0</td>\n",
              "      <td>...</td>\n",
              "      <td>3.15</td>\n",
              "      <td>2.49</td>\n",
              "      <td>3.39</td>\n",
              "      <td>3.15</td>\n",
              "      <td>2.35</td>\n",
              "      <td>3.26</td>\n",
              "      <td>2.84</td>\n",
              "      <td>0.0</td>\n",
              "      <td>0.0</td>\n",
              "      <td>0.0</td>\n",
              "    </tr>\n",
              "    <tr>\n",
              "      <th>4</th>\n",
              "      <td>Brazil</td>\n",
              "      <td>Serie A</td>\n",
              "      <td>2012</td>\n",
              "      <td>20/05/2012</td>\n",
              "      <td>20:00</td>\n",
              "      <td>Corinthians</td>\n",
              "      <td>Fluminense</td>\n",
              "      <td>0.0</td>\n",
              "      <td>1.0</td>\n",
              "      <td>2.0</td>\n",
              "      <td>...</td>\n",
              "      <td>4.41</td>\n",
              "      <td>1.96</td>\n",
              "      <td>3.53</td>\n",
              "      <td>4.41</td>\n",
              "      <td>1.89</td>\n",
              "      <td>3.33</td>\n",
              "      <td>3.89</td>\n",
              "      <td>0.0</td>\n",
              "      <td>0.0</td>\n",
              "      <td>0.0</td>\n",
              "    </tr>\n",
              "  </tbody>\n",
              "</table>\n",
              "<p>5 rows × 22 columns</p>\n",
              "</div>\n",
              "    <div class=\"colab-df-buttons\">\n",
              "\n",
              "  <div class=\"colab-df-container\">\n",
              "    <button class=\"colab-df-convert\" onclick=\"convertToInteractive('df-2aadd574-4ec3-4fd6-89b9-156608491c8e')\"\n",
              "            title=\"Convert this dataframe to an interactive table.\"\n",
              "            style=\"display:none;\">\n",
              "\n",
              "  <svg xmlns=\"http://www.w3.org/2000/svg\" height=\"24px\" viewBox=\"0 -960 960 960\">\n",
              "    <path d=\"M120-120v-720h720v720H120Zm60-500h600v-160H180v160Zm220 220h160v-160H400v160Zm0 220h160v-160H400v160ZM180-400h160v-160H180v160Zm440 0h160v-160H620v160ZM180-180h160v-160H180v160Zm440 0h160v-160H620v160Z\"/>\n",
              "  </svg>\n",
              "    </button>\n",
              "\n",
              "  <style>\n",
              "    .colab-df-container {\n",
              "      display:flex;\n",
              "      gap: 12px;\n",
              "    }\n",
              "\n",
              "    .colab-df-convert {\n",
              "      background-color: #E8F0FE;\n",
              "      border: none;\n",
              "      border-radius: 50%;\n",
              "      cursor: pointer;\n",
              "      display: none;\n",
              "      fill: #1967D2;\n",
              "      height: 32px;\n",
              "      padding: 0 0 0 0;\n",
              "      width: 32px;\n",
              "    }\n",
              "\n",
              "    .colab-df-convert:hover {\n",
              "      background-color: #E2EBFA;\n",
              "      box-shadow: 0px 1px 2px rgba(60, 64, 67, 0.3), 0px 1px 3px 1px rgba(60, 64, 67, 0.15);\n",
              "      fill: #174EA6;\n",
              "    }\n",
              "\n",
              "    .colab-df-buttons div {\n",
              "      margin-bottom: 4px;\n",
              "    }\n",
              "\n",
              "    [theme=dark] .colab-df-convert {\n",
              "      background-color: #3B4455;\n",
              "      fill: #D2E3FC;\n",
              "    }\n",
              "\n",
              "    [theme=dark] .colab-df-convert:hover {\n",
              "      background-color: #434B5C;\n",
              "      box-shadow: 0px 1px 3px 1px rgba(0, 0, 0, 0.15);\n",
              "      filter: drop-shadow(0px 1px 2px rgba(0, 0, 0, 0.3));\n",
              "      fill: #FFFFFF;\n",
              "    }\n",
              "  </style>\n",
              "\n",
              "    <script>\n",
              "      const buttonEl =\n",
              "        document.querySelector('#df-2aadd574-4ec3-4fd6-89b9-156608491c8e button.colab-df-convert');\n",
              "      buttonEl.style.display =\n",
              "        google.colab.kernel.accessAllowed ? 'block' : 'none';\n",
              "\n",
              "      async function convertToInteractive(key) {\n",
              "        const element = document.querySelector('#df-2aadd574-4ec3-4fd6-89b9-156608491c8e');\n",
              "        const dataTable =\n",
              "          await google.colab.kernel.invokeFunction('convertToInteractive',\n",
              "                                                    [key], {});\n",
              "        if (!dataTable) return;\n",
              "\n",
              "        const docLinkHtml = 'Like what you see? Visit the ' +\n",
              "          '<a target=\"_blank\" href=https://colab.research.google.com/notebooks/data_table.ipynb>data table notebook</a>'\n",
              "          + ' to learn more about interactive tables.';\n",
              "        element.innerHTML = '';\n",
              "        dataTable['output_type'] = 'display_data';\n",
              "        await google.colab.output.renderOutput(dataTable, element);\n",
              "        const docLink = document.createElement('div');\n",
              "        docLink.innerHTML = docLinkHtml;\n",
              "        element.appendChild(docLink);\n",
              "      }\n",
              "    </script>\n",
              "  </div>\n",
              "\n",
              "\n",
              "<div id=\"df-7da14606-b84f-45b3-8ac6-5fee52037311\">\n",
              "  <button class=\"colab-df-quickchart\" onclick=\"quickchart('df-7da14606-b84f-45b3-8ac6-5fee52037311')\"\n",
              "            title=\"Suggest charts\"\n",
              "            style=\"display:none;\">\n",
              "\n",
              "<svg xmlns=\"http://www.w3.org/2000/svg\" height=\"24px\"viewBox=\"0 0 24 24\"\n",
              "     width=\"24px\">\n",
              "    <g>\n",
              "        <path d=\"M19 3H5c-1.1 0-2 .9-2 2v14c0 1.1.9 2 2 2h14c1.1 0 2-.9 2-2V5c0-1.1-.9-2-2-2zM9 17H7v-7h2v7zm4 0h-2V7h2v10zm4 0h-2v-4h2v4z\"/>\n",
              "    </g>\n",
              "</svg>\n",
              "  </button>\n",
              "\n",
              "<style>\n",
              "  .colab-df-quickchart {\n",
              "      --bg-color: #E8F0FE;\n",
              "      --fill-color: #1967D2;\n",
              "      --hover-bg-color: #E2EBFA;\n",
              "      --hover-fill-color: #174EA6;\n",
              "      --disabled-fill-color: #AAA;\n",
              "      --disabled-bg-color: #DDD;\n",
              "  }\n",
              "\n",
              "  [theme=dark] .colab-df-quickchart {\n",
              "      --bg-color: #3B4455;\n",
              "      --fill-color: #D2E3FC;\n",
              "      --hover-bg-color: #434B5C;\n",
              "      --hover-fill-color: #FFFFFF;\n",
              "      --disabled-bg-color: #3B4455;\n",
              "      --disabled-fill-color: #666;\n",
              "  }\n",
              "\n",
              "  .colab-df-quickchart {\n",
              "    background-color: var(--bg-color);\n",
              "    border: none;\n",
              "    border-radius: 50%;\n",
              "    cursor: pointer;\n",
              "    display: none;\n",
              "    fill: var(--fill-color);\n",
              "    height: 32px;\n",
              "    padding: 0;\n",
              "    width: 32px;\n",
              "  }\n",
              "\n",
              "  .colab-df-quickchart:hover {\n",
              "    background-color: var(--hover-bg-color);\n",
              "    box-shadow: 0 1px 2px rgba(60, 64, 67, 0.3), 0 1px 3px 1px rgba(60, 64, 67, 0.15);\n",
              "    fill: var(--button-hover-fill-color);\n",
              "  }\n",
              "\n",
              "  .colab-df-quickchart-complete:disabled,\n",
              "  .colab-df-quickchart-complete:disabled:hover {\n",
              "    background-color: var(--disabled-bg-color);\n",
              "    fill: var(--disabled-fill-color);\n",
              "    box-shadow: none;\n",
              "  }\n",
              "\n",
              "  .colab-df-spinner {\n",
              "    border: 2px solid var(--fill-color);\n",
              "    border-color: transparent;\n",
              "    border-bottom-color: var(--fill-color);\n",
              "    animation:\n",
              "      spin 1s steps(1) infinite;\n",
              "  }\n",
              "\n",
              "  @keyframes spin {\n",
              "    0% {\n",
              "      border-color: transparent;\n",
              "      border-bottom-color: var(--fill-color);\n",
              "      border-left-color: var(--fill-color);\n",
              "    }\n",
              "    20% {\n",
              "      border-color: transparent;\n",
              "      border-left-color: var(--fill-color);\n",
              "      border-top-color: var(--fill-color);\n",
              "    }\n",
              "    30% {\n",
              "      border-color: transparent;\n",
              "      border-left-color: var(--fill-color);\n",
              "      border-top-color: var(--fill-color);\n",
              "      border-right-color: var(--fill-color);\n",
              "    }\n",
              "    40% {\n",
              "      border-color: transparent;\n",
              "      border-right-color: var(--fill-color);\n",
              "      border-top-color: var(--fill-color);\n",
              "    }\n",
              "    60% {\n",
              "      border-color: transparent;\n",
              "      border-right-color: var(--fill-color);\n",
              "    }\n",
              "    80% {\n",
              "      border-color: transparent;\n",
              "      border-right-color: var(--fill-color);\n",
              "      border-bottom-color: var(--fill-color);\n",
              "    }\n",
              "    90% {\n",
              "      border-color: transparent;\n",
              "      border-bottom-color: var(--fill-color);\n",
              "    }\n",
              "  }\n",
              "</style>\n",
              "\n",
              "  <script>\n",
              "    async function quickchart(key) {\n",
              "      const quickchartButtonEl =\n",
              "        document.querySelector('#' + key + ' button');\n",
              "      quickchartButtonEl.disabled = true;  // To prevent multiple clicks.\n",
              "      quickchartButtonEl.classList.add('colab-df-spinner');\n",
              "      try {\n",
              "        const charts = await google.colab.kernel.invokeFunction(\n",
              "            'suggestCharts', [key], {});\n",
              "      } catch (error) {\n",
              "        console.error('Error during call to suggestCharts:', error);\n",
              "      }\n",
              "      quickchartButtonEl.classList.remove('colab-df-spinner');\n",
              "      quickchartButtonEl.classList.add('colab-df-quickchart-complete');\n",
              "    }\n",
              "    (() => {\n",
              "      let quickchartButtonEl =\n",
              "        document.querySelector('#df-7da14606-b84f-45b3-8ac6-5fee52037311 button');\n",
              "      quickchartButtonEl.style.display =\n",
              "        google.colab.kernel.accessAllowed ? 'block' : 'none';\n",
              "    })();\n",
              "  </script>\n",
              "</div>\n",
              "\n",
              "    </div>\n",
              "  </div>\n"
            ],
            "application/vnd.google.colaboratory.intrinsic+json": {
              "type": "dataframe"
            }
          },
          "metadata": {},
          "execution_count": 142
        }
      ]
    },
    {
      "cell_type": "markdown",
      "source": [
        "**3º Passo:**\n",
        "\n",
        "a) Organização e Exploração dos dados:"
      ],
      "metadata": {
        "id": "N-gpd-oqeLFi"
      }
    },
    {
      "cell_type": "code",
      "source": [
        "matches = dataset.shape[0] # Quantidade de jogos\n",
        "features = dataset.shape[1] # Quantidade de features (colunas) - Entradas\n",
        "# Criação de uma variável home_win para quantificar as vitórias do time mandante\n",
        "home_win = dataset[dataset['Res'] == 1].shape[0]\n",
        "# Criação de uma variável away_win para quantificar as vitórias do time visitante\n",
        "away_win = dataset[dataset['Res'] == 2].shape[0]\n",
        "# Criação de uma variável draw para quantificar os empates\n",
        "draw = dataset[dataset['Res'] == 0].shape[0]\n",
        "# Criação de uma variável win_rate para ter uma medida de proporção das vitórias dos times mandantes:\n",
        "win_rate = round((home_win / matches) * 100, 2)\n",
        "# Exibindo os resultados:\n",
        "print(f'Total de jogos: {matches}')\n",
        "print(f'Total de colunas: {features}')\n",
        "print(f'Vitórias do time mandante: {home_win}')\n",
        "print(f'Vitórias do time visitante: {away_win}')\n",
        "print(f'Empates: {draw}')\n",
        "print(f'Percentual de vitórias do time mandante: {win_rate}%')"
      ],
      "metadata": {
        "id": "nkAXn38s3Dn7",
        "colab": {
          "base_uri": "https://localhost:8080/"
        },
        "outputId": "27cd0c74-53c5-40e2-acbf-619c0a1f6e90"
      },
      "execution_count": null,
      "outputs": [
        {
          "output_type": "stream",
          "name": "stdout",
          "text": [
            "Total de jogos: 4879\n",
            "Total de colunas: 22\n",
            "Vitórias do time mandante: 2367\n",
            "Vitórias do time visitante: 1201\n",
            "Empates: 1311\n",
            "Percentual de vitórias do time mandante: 48.51%\n"
          ]
        }
      ]
    },
    {
      "cell_type": "markdown",
      "source": [
        "b) Visualizando as informações acima através de gráfico:"
      ],
      "metadata": {
        "id": "1DE7HMq80Tom"
      }
    },
    {
      "cell_type": "code",
      "source": [
        "labels = ['Time Mandante', 'Empates', 'Time Visitante'] # Títulos dos atributos a serem exibidos no gráfico\n",
        "colors = ['Yellow', 'Green', 'Blue'] # Legenda das cores a serem plotadas para cada atributo no gráfico\n",
        "values = [home_win, draw, away_win] # Percentual calculado anteriormente para cada categoria dentro do gráfico\n",
        "fig = plt.figure(figsize=(6, 6)) # Tamanho da figura\n",
        "plt.pie(values, labels=labels, colors=colors, autopct='%.2f%%') # Gráfico em formato de pizza com os percentuais calculados\n",
        "plt.show() # Para exibir o gráfico"
      ],
      "metadata": {
        "colab": {
          "base_uri": "https://localhost:8080/",
          "height": 499
        },
        "id": "lwWw0AxmtgLA",
        "outputId": "86acd39e-18de-4727-962a-c7419ac0db52"
      },
      "execution_count": null,
      "outputs": [
        {
          "output_type": "display_data",
          "data": {
            "text/plain": [
              "<Figure size 600x600 with 1 Axes>"
            ],
            "image/png": "[encoded data removed]"
          },
          "metadata": {}
        }
      ]
    },
    {
      "cell_type": "markdown",
      "source": [
        "Pelo gráfico acima, à primeira vista, vale a pena apostar no time que é mandante haja vista que eles ganham quase que 50% dos jogos. Ou seja, o fator casa é muito importante a ser considerado na análise."
      ],
      "metadata": {
        "id": "3R5REMqzG3w8"
      }
    },
    {
      "cell_type": "markdown",
      "source": [
        "**4º Passo: Preparação dos dados**"
      ],
      "metadata": {
        "id": "J2LnmxCwHIjQ"
      }
    },
    {
      "cell_type": "code",
      "source": [
        "# Deixando somente as colunas com dados numéricos relevantes para se fazer a análise:\n",
        "num_data = dataset.drop(['Season', 'Country', 'League', 'Date', 'Time', 'Home', 'Away'], axis=1) # Tirando as colunas que não possuem dados numéricos\n",
        "display(num_data.head()) # Para mostrar somente os dados numéricos após o \"corte\""
      ],
      "metadata": {
        "id": "w6GtqD8eIxNa",
        "colab": {
          "base_uri": "https://localhost:8080/",
          "height": 206
        },
        "outputId": "e868a14d-f0a0-4fe5-b44f-42486c84cd72"
      },
      "execution_count": null,
      "outputs": [
        {
          "output_type": "display_data",
          "data": {
            "text/plain": [
              "    HG   AG  Res  PSCH  PSCD  PSCA  MaxCH  MaxCD  MaxCA  AvgCH  AvgCD  AvgCA  \\\n",
              "0  1.0  1.0  0.0  1.75  3.86  5.25   1.76   3.87   5.31   1.69   3.50   4.90   \n",
              "1  1.0  1.0  0.0  2.83  3.39  2.68   2.83   3.42   2.70   2.59   3.23   2.58   \n",
              "2  2.0  1.0  1.0  1.60  4.04  6.72   1.67   4.05   7.22   1.59   3.67   5.64   \n",
              "3  4.0  2.0  1.0  2.49  3.35  3.15   2.49   3.39   3.15   2.35   3.26   2.84   \n",
              "4  0.0  1.0  2.0  1.96  3.53  4.41   1.96   3.53   4.41   1.89   3.33   3.89   \n",
              "\n",
              "   BFECH  BFECD  BFECA  \n",
              "0    0.0    0.0    0.0  \n",
              "1    0.0    0.0    0.0  \n",
              "2    0.0    0.0    0.0  \n",
              "3    0.0    0.0    0.0  \n",
              "4    0.0    0.0    0.0  "
            ],
            "text/html": [
              "\n",
              "  <div id=\"df-ee6f83cc-9e40-450b-8064-bc379f409edd\" class=\"colab-df-container\">\n",
              "    <div>\n",
              "<style scoped>\n",
              "    .dataframe tbody tr th:only-of-type {\n",
              "        vertical-align: middle;\n",
              "    }\n",
              "\n",
              "    .dataframe tbody tr th {\n",
              "        vertical-align: top;\n",
              "    }\n",
              "\n",
              "    .dataframe thead th {\n",
              "        text-align: right;\n",
              "    }\n",
              "</style>\n",
              "<table border=\"1\" class=\"dataframe\">\n",
              "  <thead>\n",
              "    <tr style=\"text-align: right;\">\n",
              "      <th></th>\n",
              "      <th>HG</th>\n",
              "      <th>AG</th>\n",
              "      <th>Res</th>\n",
              "      <th>PSCH</th>\n",
              "      <th>PSCD</th>\n",
              "      <th>PSCA</th>\n",
              "      <th>MaxCH</th>\n",
              "      <th>MaxCD</th>\n",
              "      <th>MaxCA</th>\n",
              "      <th>AvgCH</th>\n",
              "      <th>AvgCD</th>\n",
              "      <th>AvgCA</th>\n",
              "      <th>BFECH</th>\n",
              "      <th>BFECD</th>\n",
              "      <th>BFECA</th>\n",
              "    </tr>\n",
              "  </thead>\n",
              "  <tbody>\n",
              "    <tr>\n",
              "      <th>0</th>\n",
              "      <td>1.0</td>\n",
              "      <td>1.0</td>\n",
              "      <td>0.0</td>\n",
              "      <td>1.75</td>\n",
              "      <td>3.86</td>\n",
              "      <td>5.25</td>\n",
              "      <td>1.76</td>\n",
              "      <td>3.87</td>\n",
              "      <td>5.31</td>\n",
              "      <td>1.69</td>\n",
              "      <td>3.50</td>\n",
              "      <td>4.90</td>\n",
              "      <td>0.0</td>\n",
              "      <td>0.0</td>\n",
              "      <td>0.0</td>\n",
              "    </tr>\n",
              "    <tr>\n",
              "      <th>1</th>\n",
              "      <td>1.0</td>\n",
              "      <td>1.0</td>\n",
              "      <td>0.0</td>\n",
              "      <td>2.83</td>\n",
              "      <td>3.39</td>\n",
              "      <td>2.68</td>\n",
              "      <td>2.83</td>\n",
              "      <td>3.42</td>\n",
              "      <td>2.70</td>\n",
              "      <td>2.59</td>\n",
              "      <td>3.23</td>\n",
              "      <td>2.58</td>\n",
              "      <td>0.0</td>\n",
              "      <td>0.0</td>\n",
              "      <td>0.0</td>\n",
              "    </tr>\n",
              "    <tr>\n",
              "      <th>2</th>\n",
              "      <td>2.0</td>\n",
              "      <td>1.0</td>\n",
              "      <td>1.0</td>\n",
              "      <td>1.60</td>\n",
              "      <td>4.04</td>\n",
              "      <td>6.72</td>\n",
              "      <td>1.67</td>\n",
              "      <td>4.05</td>\n",
              "      <td>7.22</td>\n",
              "      <td>1.59</td>\n",
              "      <td>3.67</td>\n",
              "      <td>5.64</td>\n",
              "      <td>0.0</td>\n",
              "      <td>0.0</td>\n",
              "      <td>0.0</td>\n",
              "    </tr>\n",
              "    <tr>\n",
              "      <th>3</th>\n",
              "      <td>4.0</td>\n",
              "      <td>2.0</td>\n",
              "      <td>1.0</td>\n",
              "      <td>2.49</td>\n",
              "      <td>3.35</td>\n",
              "      <td>3.15</td>\n",
              "      <td>2.49</td>\n",
              "      <td>3.39</td>\n",
              "      <td>3.15</td>\n",
              "      <td>2.35</td>\n",
              "      <td>3.26</td>\n",
              "      <td>2.84</td>\n",
              "      <td>0.0</td>\n",
              "      <td>0.0</td>\n",
              "      <td>0.0</td>\n",
              "    </tr>\n",
              "    <tr>\n",
              "      <th>4</th>\n",
              "      <td>0.0</td>\n",
              "      <td>1.0</td>\n",
              "      <td>2.0</td>\n",
              "      <td>1.96</td>\n",
              "      <td>3.53</td>\n",
              "      <td>4.41</td>\n",
              "      <td>1.96</td>\n",
              "      <td>3.53</td>\n",
              "      <td>4.41</td>\n",
              "      <td>1.89</td>\n",
              "      <td>3.33</td>\n",
              "      <td>3.89</td>\n",
              "      <td>0.0</td>\n",
              "      <td>0.0</td>\n",
              "      <td>0.0</td>\n",
              "    </tr>\n",
              "  </tbody>\n",
              "</table>\n",
              "</div>\n",
              "    <div class=\"colab-df-buttons\">\n",
              "\n",
              "  <div class=\"colab-df-container\">\n",
              "    <button class=\"colab-df-convert\" onclick=\"convertToInteractive('df-ee6f83cc-9e40-450b-8064-bc379f409edd')\"\n",
              "            title=\"Convert this dataframe to an interactive table.\"\n",
              "            style=\"display:none;\">\n",
              "\n",
              "  <svg xmlns=\"http://www.w3.org/2000/svg\" height=\"24px\" viewBox=\"0 -960 960 960\">\n",
              "    <path d=\"M120-120v-720h720v720H120Zm60-500h600v-160H180v160Zm220 220h160v-160H400v160Zm0 220h160v-160H400v160ZM180-400h160v-160H180v160Zm440 0h160v-160H620v160ZM180-180h160v-160H180v160Zm440 0h160v-160H620v160Z\"/>\n",
              "  </svg>\n",
              "    </button>\n",
              "\n",
              "  <style>\n",
              "    .colab-df-container {\n",
              "      display:flex;\n",
              "      gap: 12px;\n",
              "    }\n",
              "\n",
              "    .colab-df-convert {\n",
              "      background-color: #E8F0FE;\n",
              "      border: none;\n",
              "      border-radius: 50%;\n",
              "      cursor: pointer;\n",
              "      display: none;\n",
              "      fill: #1967D2;\n",
              "      height: 32px;\n",
              "      padding: 0 0 0 0;\n",
              "      width: 32px;\n",
              "    }\n",
              "\n",
              "    .colab-df-convert:hover {\n",
              "      background-color: #E2EBFA;\n",
              "      box-shadow: 0px 1px 2px rgba(60, 64, 67, 0.3), 0px 1px 3px 1px rgba(60, 64, 67, 0.15);\n",
              "      fill: #174EA6;\n",
              "    }\n",
              "\n",
              "    .colab-df-buttons div {\n",
              "      margin-bottom: 4px;\n",
              "    }\n",
              "\n",
              "    [theme=dark] .colab-df-convert {\n",
              "      background-color: #3B4455;\n",
              "      fill: #D2E3FC;\n",
              "    }\n",
              "\n",
              "    [theme=dark] .colab-df-convert:hover {\n",
              "      background-color: #434B5C;\n",
              "      box-shadow: 0px 1px 3px 1px rgba(0, 0, 0, 0.15);\n",
              "      filter: drop-shadow(0px 1px 2px rgba(0, 0, 0, 0.3));\n",
              "      fill: #FFFFFF;\n",
              "    }\n",
              "  </style>\n",
              "\n",
              "    <script>\n",
              "      const buttonEl =\n",
              "        document.querySelector('#df-ee6f83cc-9e40-450b-8064-bc379f409edd button.colab-df-convert');\n",
              "      buttonEl.style.display =\n",
              "        google.colab.kernel.accessAllowed ? 'block' : 'none';\n",
              "\n",
              "      async function convertToInteractive(key) {\n",
              "        const element = document.querySelector('#df-ee6f83cc-9e40-450b-8064-bc379f409edd');\n",
              "        const dataTable =\n",
              "          await google.colab.kernel.invokeFunction('convertToInteractive',\n",
              "                                                    [key], {});\n",
              "        if (!dataTable) return;\n",
              "\n",
              "        const docLinkHtml = 'Like what you see? Visit the ' +\n",
              "          '<a target=\"_blank\" href=https://colab.research.google.com/notebooks/data_table.ipynb>data table notebook</a>'\n",
              "          + ' to learn more about interactive tables.';\n",
              "        element.innerHTML = '';\n",
              "        dataTable['output_type'] = 'display_data';\n",
              "        await google.colab.output.renderOutput(dataTable, element);\n",
              "        const docLink = document.createElement('div');\n",
              "        docLink.innerHTML = docLinkHtml;\n",
              "        element.appendChild(docLink);\n",
              "      }\n",
              "    </script>\n",
              "  </div>\n",
              "\n",
              "\n",
              "<div id=\"df-c509fe45-7bf8-4d06-8f79-bd2af1d4c15b\">\n",
              "  <button class=\"colab-df-quickchart\" onclick=\"quickchart('df-c509fe45-7bf8-4d06-8f79-bd2af1d4c15b')\"\n",
              "            title=\"Suggest charts\"\n",
              "            style=\"display:none;\">\n",
              "\n",
              "<svg xmlns=\"http://www.w3.org/2000/svg\" height=\"24px\"viewBox=\"0 0 24 24\"\n",
              "     width=\"24px\">\n",
              "    <g>\n",
              "        <path d=\"M19 3H5c-1.1 0-2 .9-2 2v14c0 1.1.9 2 2 2h14c1.1 0 2-.9 2-2V5c0-1.1-.9-2-2-2zM9 17H7v-7h2v7zm4 0h-2V7h2v10zm4 0h-2v-4h2v4z\"/>\n",
              "    </g>\n",
              "</svg>\n",
              "  </button>\n",
              "\n",
              "<style>\n",
              "  .colab-df-quickchart {\n",
              "      --bg-color: #E8F0FE;\n",
              "      --fill-color: #1967D2;\n",
              "      --hover-bg-color: #E2EBFA;\n",
              "      --hover-fill-color: #174EA6;\n",
              "      --disabled-fill-color: #AAA;\n",
              "      --disabled-bg-color: #DDD;\n",
              "  }\n",
              "\n",
              "  [theme=dark] .colab-df-quickchart {\n",
              "      --bg-color: #3B4455;\n",
              "      --fill-color: #D2E3FC;\n",
              "      --hover-bg-color: #434B5C;\n",
              "      --hover-fill-color: #FFFFFF;\n",
              "      --disabled-bg-color: #3B4455;\n",
              "      --disabled-fill-color: #666;\n",
              "  }\n",
              "\n",
              "  .colab-df-quickchart {\n",
              "    background-color: var(--bg-color);\n",
              "    border: none;\n",
              "    border-radius: 50%;\n",
              "    cursor: pointer;\n",
              "    display: none;\n",
              "    fill: var(--fill-color);\n",
              "    height: 32px;\n",
              "    padding: 0;\n",
              "    width: 32px;\n",
              "  }\n",
              "\n",
              "  .colab-df-quickchart:hover {\n",
              "    background-color: var(--hover-bg-color);\n",
              "    box-shadow: 0 1px 2px rgba(60, 64, 67, 0.3), 0 1px 3px 1px rgba(60, 64, 67, 0.15);\n",
              "    fill: var(--button-hover-fill-color);\n",
              "  }\n",
              "\n",
              "  .colab-df-quickchart-complete:disabled,\n",
              "  .colab-df-quickchart-complete:disabled:hover {\n",
              "    background-color: var(--disabled-bg-color);\n",
              "    fill: var(--disabled-fill-color);\n",
              "    box-shadow: none;\n",
              "  }\n",
              "\n",
              "  .colab-df-spinner {\n",
              "    border: 2px solid var(--fill-color);\n",
              "    border-color: transparent;\n",
              "    border-bottom-color: var(--fill-color);\n",
              "    animation:\n",
              "      spin 1s steps(1) infinite;\n",
              "  }\n",
              "\n",
              "  @keyframes spin {\n",
              "    0% {\n",
              "      border-color: transparent;\n",
              "      border-bottom-color: var(--fill-color);\n",
              "      border-left-color: var(--fill-color);\n",
              "    }\n",
              "    20% {\n",
              "      border-color: transparent;\n",
              "      border-left-color: var(--fill-color);\n",
              "      border-top-color: var(--fill-color);\n",
              "    }\n",
              "    30% {\n",
              "      border-color: transparent;\n",
              "      border-left-color: var(--fill-color);\n",
              "      border-top-color: var(--fill-color);\n",
              "      border-right-color: var(--fill-color);\n",
              "    }\n",
              "    40% {\n",
              "      border-color: transparent;\n",
              "      border-right-color: var(--fill-color);\n",
              "      border-top-color: var(--fill-color);\n",
              "    }\n",
              "    60% {\n",
              "      border-color: transparent;\n",
              "      border-right-color: var(--fill-color);\n",
              "    }\n",
              "    80% {\n",
              "      border-color: transparent;\n",
              "      border-right-color: var(--fill-color);\n",
              "      border-bottom-color: var(--fill-color);\n",
              "    }\n",
              "    90% {\n",
              "      border-color: transparent;\n",
              "      border-bottom-color: var(--fill-color);\n",
              "    }\n",
              "  }\n",
              "</style>\n",
              "\n",
              "  <script>\n",
              "    async function quickchart(key) {\n",
              "      const quickchartButtonEl =\n",
              "        document.querySelector('#' + key + ' button');\n",
              "      quickchartButtonEl.disabled = true;  // To prevent multiple clicks.\n",
              "      quickchartButtonEl.classList.add('colab-df-spinner');\n",
              "      try {\n",
              "        const charts = await google.colab.kernel.invokeFunction(\n",
              "            'suggestCharts', [key], {});\n",
              "      } catch (error) {\n",
              "        console.error('Error during call to suggestCharts:', error);\n",
              "      }\n",
              "      quickchartButtonEl.classList.remove('colab-df-spinner');\n",
              "      quickchartButtonEl.classList.add('colab-df-quickchart-complete');\n",
              "    }\n",
              "    (() => {\n",
              "      let quickchartButtonEl =\n",
              "        document.querySelector('#df-c509fe45-7bf8-4d06-8f79-bd2af1d4c15b button');\n",
              "      quickchartButtonEl.style.display =\n",
              "        google.colab.kernel.accessAllowed ? 'block' : 'none';\n",
              "    })();\n",
              "  </script>\n",
              "</div>\n",
              "\n",
              "    </div>\n",
              "  </div>\n"
            ],
            "application/vnd.google.colaboratory.intrinsic+json": {
              "type": "dataframe",
              "summary": "{\n  \"name\": \"display(num_data\",\n  \"rows\": 5,\n  \"fields\": [\n    {\n      \"column\": \"HG\",\n      \"properties\": {\n        \"dtype\": \"number\",\n        \"std\": 1.51657508881031,\n        \"min\": 0.0,\n        \"max\": 4.0,\n        \"num_unique_values\": 4,\n        \"samples\": [\n          2.0,\n          0.0,\n          1.0\n        ],\n        \"semantic_type\": \"\",\n        \"description\": \"\"\n      }\n    },\n    {\n      \"column\": \"AG\",\n      \"properties\": {\n        \"dtype\": \"number\",\n        \"std\": 0.4472135954999579,\n        \"min\": 1.0,\n        \"max\": 2.0,\n        \"num_unique_values\": 2,\n        \"samples\": [\n          2.0,\n          1.0\n        ],\n        \"semantic_type\": \"\",\n        \"description\": \"\"\n      }\n    },\n    {\n      \"column\": \"Res\",\n      \"properties\": {\n        \"dtype\": \"number\",\n        \"std\": 0.8366600265340756,\n        \"min\": 0.0,\n        \"max\": 2.0,\n        \"num_unique_values\": 3,\n        \"samples\": [\n          0.0,\n          1.0\n        ],\n        \"semantic_type\": \"\",\n        \"description\": \"\"\n      }\n    },\n    {\n      \"column\": \"PSCH\",\n      \"properties\": {\n        \"dtype\": \"number\",\n        \"std\": 0.5181023064994018,\n        \"min\": 1.6,\n        \"max\": 2.83,\n        \"num_unique_values\": 5,\n        \"samples\": [\n          2.83,\n          1.96\n        ],\n        \"semantic_type\": \"\",\n        \"description\": \"\"\n      }\n    },\n    {\n      \"column\": \"PSCD\",\n      \"properties\": {\n        \"dtype\": \"number\",\n        \"std\": 0.30286960890785986,\n        \"min\": 3.35,\n        \"max\": 4.04,\n        \"num_unique_values\": 5,\n        \"samples\": [\n          3.39,\n          3.53\n        ],\n        \"semantic_type\": \"\",\n        \"description\": \"\"\n      }\n    },\n    {\n      \"column\": \"PSCA\",\n      \"properties\": {\n        \"dtype\": \"number\",\n        \"std\": 1.6291930517897502,\n        \"min\": 2.68,\n        \"max\": 6.72,\n        \"num_unique_values\": 5,\n        \"samples\": [\n          2.68,\n          4.41\n        ],\n        \"semantic_type\": \"\",\n        \"description\": \"\"\n      }\n    },\n    {\n      \"column\": \"MaxCH\",\n      \"properties\": {\n        \"dtype\": \"number\",\n        \"std\": 0.49906913348753607,\n        \"min\": 1.67,\n        \"max\": 2.83,\n        \"num_unique_values\": 5,\n        \"samples\": [\n          2.83,\n          1.96\n        ],\n        \"semantic_type\": \"\",\n        \"description\": \"\"\n      }\n    },\n    {\n      \"column\": \"MaxCD\",\n      \"properties\": {\n        \"dtype\": \"number\",\n        \"std\": 0.2929505077653902,\n        \"min\": 3.39,\n        \"max\": 4.05,\n        \"num_unique_values\": 5,\n        \"samples\": [\n          3.42,\n          3.53\n        ],\n        \"semantic_type\": \"\",\n        \"description\": \"\"\n      }\n    },\n    {\n      \"column\": \"MaxCA\",\n      \"properties\": {\n        \"dtype\": \"number\",\n        \"std\": 1.8102679359697005,\n        \"min\": 2.7,\n        \"max\": 7.22,\n        \"num_unique_values\": 5,\n        \"samples\": [\n          2.7,\n          4.41\n        ],\n        \"semantic_type\": \"\",\n        \"description\": \"\"\n      }\n    },\n    {\n      \"column\": \"AvgCH\",\n      \"properties\": {\n        \"dtype\": \"number\",\n        \"std\": 0.4314162722939412,\n        \"min\": 1.59,\n        \"max\": 2.59,\n        \"num_unique_values\": 5,\n        \"samples\": [\n          2.59,\n          1.89\n        ],\n        \"semantic_type\": \"\",\n        \"description\": \"\"\n      }\n    },\n    {\n      \"column\": \"AvgCD\",\n      \"properties\": {\n        \"dtype\": \"number\",\n        \"std\": 0.18458060569843193,\n        \"min\": 3.23,\n        \"max\": 3.67,\n        \"num_unique_values\": 5,\n        \"samples\": [\n          3.23,\n          3.33\n        ],\n        \"semantic_type\": \"\",\n        \"description\": \"\"\n      }\n    },\n    {\n      \"column\": \"AvgCA\",\n      \"properties\": {\n        \"dtype\": \"number\",\n        \"std\": 1.3104579352272243,\n        \"min\": 2.58,\n        \"max\": 5.64,\n        \"num_unique_values\": 5,\n        \"samples\": [\n          2.58,\n          3.89\n        ],\n        \"semantic_type\": \"\",\n        \"description\": \"\"\n      }\n    },\n    {\n      \"column\": \"BFECH\",\n      \"properties\": {\n        \"dtype\": \"number\",\n        \"std\": 0.0,\n        \"min\": 0.0,\n        \"max\": 0.0,\n        \"num_unique_values\": 1,\n        \"samples\": [\n          0.0\n        ],\n        \"semantic_type\": \"\",\n        \"description\": \"\"\n      }\n    },\n    {\n      \"column\": \"BFECD\",\n      \"properties\": {\n        \"dtype\": \"number\",\n        \"std\": 0.0,\n        \"min\": 0.0,\n        \"max\": 0.0,\n        \"num_unique_values\": 1,\n        \"samples\": [\n          0.0\n        ],\n        \"semantic_type\": \"\",\n        \"description\": \"\"\n      }\n    },\n    {\n      \"column\": \"BFECA\",\n      \"properties\": {\n        \"dtype\": \"number\",\n        \"std\": 0.0,\n        \"min\": 0.0,\n        \"max\": 0.0,\n        \"num_unique_values\": 1,\n        \"samples\": [\n          0.0\n        ],\n        \"semantic_type\": \"\",\n        \"description\": \"\"\n      }\n    }\n  ]\n}"
            }
          },
          "metadata": {}
        }
      ]
    },
    {
      "cell_type": "code",
      "source": [
        "# Separação, de fato, das features (entradas) e labels (saídas):\n",
        "features_drop = num_data.drop('Res', axis = 1) # Todas as colunas menos a coluna do Resultado\n",
        "target = num_data ['Res'] # Somente a coluna do Resultado\n",
        "print (f'Features:\\n {features_drop.head()}') # Mostrando as primeiras linhas das features\n",
        "print (f'=======================================================================') # Apenas para facilitar a visualização\n",
        "print (f'Labels:\\n {target.head()}') # Mostrando as primeiras linhas do label\n"
      ],
      "metadata": {
        "colab": {
          "base_uri": "https://localhost:8080/"
        },
        "id": "SDhil1HnHwLU",
        "outputId": "ad013f6f-1682-4886-aa4a-023ab15b31bb"
      },
      "execution_count": null,
      "outputs": [
        {
          "output_type": "stream",
          "name": "stdout",
          "text": [
            "Features:\n",
            "     HG   AG  PSCH  PSCD  PSCA  MaxCH  MaxCD  MaxCA  AvgCH  AvgCD  AvgCA  \\\n",
            "0  1.0  1.0  1.75  3.86  5.25   1.76   3.87   5.31   1.69   3.50   4.90   \n",
            "1  1.0  1.0  2.83  3.39  2.68   2.83   3.42   2.70   2.59   3.23   2.58   \n",
            "2  2.0  1.0  1.60  4.04  6.72   1.67   4.05   7.22   1.59   3.67   5.64   \n",
            "3  4.0  2.0  2.49  3.35  3.15   2.49   3.39   3.15   2.35   3.26   2.84   \n",
            "4  0.0  1.0  1.96  3.53  4.41   1.96   3.53   4.41   1.89   3.33   3.89   \n",
            "\n",
            "   BFECH  BFECD  BFECA  \n",
            "0    0.0    0.0    0.0  \n",
            "1    0.0    0.0    0.0  \n",
            "2    0.0    0.0    0.0  \n",
            "3    0.0    0.0    0.0  \n",
            "4    0.0    0.0    0.0  \n",
            "=======================================================================\n",
            "Labels:\n",
            " 0    0.0\n",
            "1    0.0\n",
            "2    1.0\n",
            "3    1.0\n",
            "4    2.0\n",
            "Name: Res, dtype: float64\n"
          ]
        }
      ]
    },
    {
      "cell_type": "code",
      "source": [
        "# Feature Selection: (Seleção de características)\n",
        "# Iremos fazer uma seleção das features através da ferramenta K-Best:\n",
        "features_list = [features_drop] # Lista das Entradas\n",
        "k_best_features = SelectKBest(k='all') # Seleção do K\n",
        "k_best_features.fit_transform(features_drop, target) # Aplicação do K-Best\n",
        "k_best_features_scores = k_best_features.scores_ # Lista dos scores de cada feature\n",
        "raw_pairs = zip(features_drop.columns, k_best_features_scores) # Lista de tuplas com os scores\n",
        "ordered_pairs = list(reversed(sorted(raw_pairs, key=lambda x: x[1]))) # Lista de tuplas com os scores em ordem decrescente\n",
        "k_best_features_final = dict (ordered_pairs[:15]) # Dicionário com as melhores features\n",
        "k_best_features_final_end = list (k_best_features_final.keys()) # Lista com as melhores features\n",
        "print (f'Melhores Features: \\n', k_best_features_final_end) # Mostrando as melhores features\n",
        "print (f'======================================================================================================================') # Apenas para facilitar a visualização\n",
        "print (f'Quantidade de Melhores Features: {len(k_best_features_final_end)}') # Mostrando a quantidade de melhores features\n",
        "print (f'======================================================================================================================')\n",
        "print (f'Scores respectivos de cada Feature: \\n', k_best_features_scores) # Mostrando os scores de cada feature\n"
      ],
      "metadata": {
        "colab": {
          "base_uri": "https://localhost:8080/"
        },
        "id": "ho-Eq0AUvMV4",
        "outputId": "a8138292-d324-4636-e109-ab304a50b5dd"
      },
      "execution_count": null,
      "outputs": [
        {
          "output_type": "stream",
          "name": "stdout",
          "text": [
            "Melhores Features: \n",
            " ['HG', 'AG', 'PSCH', 'AvgCH', 'AvgCA', 'MaxCH', 'PSCA', 'MaxCA', 'MaxCD', 'AvgCD', 'PSCD', 'BFECA', 'BFECH', 'BFECD']\n",
            "======================================================================================================================\n",
            "Quantidade de Melhores Features: 14\n",
            "======================================================================================================================\n",
            "Scores respectivos de cada Feature: \n",
            " [1.61711858e+03 1.58382739e+03 2.10316097e+02 9.33896472e+01\n",
            " 1.84815090e+02 1.87472856e+02 9.60570446e+01 1.81732431e+02\n",
            " 2.06202919e+02 9.50948169e+01 1.92100846e+02 1.09644634e+00\n",
            " 2.86957289e-01 1.82935212e+00]\n"
          ]
        }
      ]
    },
    {
      "cell_type": "code",
      "source": [
        "# Com o resultado dos scores acima, iremos retirar os 3 piores resultados que não performaram tão bem\n",
        "features_drop = num_data.drop (['Res', 'BFECA', 'BFECH', 'BFECD'], axis = 1) # Retirando as colunas com os piores resultados além da coluna Resultado, que será o Label\n",
        "# Label de treinamento:\n",
        "target = num_data ['Res'] # Somente a coluna do Resultado\n",
        "print (f'Features:\\n {features_drop.head()}') # Mostrando as primeiras linhas das features\n",
        "print (f'=======================================================================') # Apenas para facilitar a visualização\n",
        "print (f'Labels:\\n {target.head()}') # Mostrando as primeiras linhas do label\n"
      ],
      "metadata": {
        "colab": {
          "base_uri": "https://localhost:8080/"
        },
        "id": "SDryiRwKkAV8",
        "outputId": "e300daf9-aecf-4659-e991-bde2130320ce"
      },
      "execution_count": null,
      "outputs": [
        {
          "output_type": "stream",
          "name": "stdout",
          "text": [
            "Features:\n",
            "     HG   AG  PSCH  PSCD  PSCA  MaxCH  MaxCD  MaxCA  AvgCH  AvgCD  AvgCA\n",
            "0  1.0  1.0  1.75  3.86  5.25   1.76   3.87   5.31   1.69   3.50   4.90\n",
            "1  1.0  1.0  2.83  3.39  2.68   2.83   3.42   2.70   2.59   3.23   2.58\n",
            "2  2.0  1.0  1.60  4.04  6.72   1.67   4.05   7.22   1.59   3.67   5.64\n",
            "3  4.0  2.0  2.49  3.35  3.15   2.49   3.39   3.15   2.35   3.26   2.84\n",
            "4  0.0  1.0  1.96  3.53  4.41   1.96   3.53   4.41   1.89   3.33   3.89\n",
            "=======================================================================\n",
            "Labels:\n",
            " 0    0.0\n",
            "1    0.0\n",
            "2    1.0\n",
            "3    1.0\n",
            "4    2.0\n",
            "Name: Res, dtype: float64\n"
          ]
        }
      ]
    },
    {
      "cell_type": "code",
      "source": [
        "# Normalização dos dados:\n",
        "# Esta é uma parte importante, pois o modelo pode considerar que uma vitória, por exemplo, de 7 a 1 seja melhor do que 1 a 0\n",
        "# E não é isso que queremos na verdade. Apenas queremos efetuar a classificação, ou seja, vitórias, empates e derrotas\n",
        "# Gerando o novo padrão:\n",
        "\n",
        "scaler = MinMaxScaler().fit (features_drop)\n",
        "features_scale = scaler.transform (features_drop)\n",
        "print (f'Features:\\n {features_scale.shape}')\n",
        "print (f'========================================================================')\n",
        "print (features_scale)\n"
      ],
      "metadata": {
        "colab": {
          "base_uri": "https://localhost:8080/"
        },
        "id": "NcE--ivS_tfF",
        "outputId": "6bfaab2d-0173-486d-9fb3-cbf82910c977"
      },
      "execution_count": null,
      "outputs": [
        {
          "output_type": "stream",
          "name": "stdout",
          "text": [
            "Features:\n",
            " (4879, 11)\n",
            "========================================================================\n",
            "[[0.14285714 0.16666667 0.0989819  ... 0.03235908 0.11913357 0.14746363]\n",
            " [0.14285714 0.16666667 0.16006787 ... 0.07933194 0.0866426  0.0562328 ]\n",
            " [0.28571429 0.16666667 0.09049774 ... 0.02713987 0.13959085 0.17656311]\n",
            " ...\n",
            " [0.28571429 0.         0.07692308 ... 0.01461378 0.30565584 0.28745576]\n",
            " [0.14285714 0.         0.12669683 ... 0.06263048 0.08303249 0.08493905]\n",
            " [0.         0.16666667 0.14988688 ... 0.07724426 0.07340554 0.06960283]]\n"
          ]
        }
      ]
    },
    {
      "cell_type": "markdown",
      "source": [
        "**5º Passo: Separação entre treinamento e teste:**"
      ],
      "metadata": {
        "id": "84HMGfeeVccx"
      }
    },
    {
      "cell_type": "code",
      "source": [
        "# Separação automática com o módulo \"Train_Test\" do Scikit-Learn:\n",
        "training = train_test_split (features_scale, target, test_size = 0.3, random_state = 42) # Definição arbitrária com 70% dos dados para treinamento e 20% para testes\n",
        "X_train, X_test, Y_train, Y_test = training\n",
        "print (f'X_train: {X_train.shape}')\n",
        "print (f'X_test: {X_test.shape}')\n",
        "print (f'y_train: {Y_train.shape}')\n",
        "print (f'y_test: {Y_test.shape}')"
      ],
      "metadata": {
        "colab": {
          "base_uri": "https://localhost:8080/"
        },
        "id": "X5RY3gkZVr56",
        "outputId": "b8e63ac9-fcf4-42e5-a66f-4d8b5dceeb71"
      },
      "execution_count": null,
      "outputs": [
        {
          "output_type": "stream",
          "name": "stdout",
          "text": [
            "X_train: (3415, 11)\n",
            "X_test: (1464, 11)\n",
            "y_train: (3415,)\n",
            "y_test: (1464,)\n"
          ]
        }
      ]
    },
    {
      "cell_type": "markdown",
      "source": [
        "**6º Passo: Treino e teste com os dados disponíveis para utilização nos Modelos:**"
      ],
      "metadata": {
        "id": "CDwNlnukk756"
      }
    },
    {
      "cell_type": "markdown",
      "source": [
        "a) Logistic Regression (Regressão Logística):\n",
        "A Regressão Logística é um modelo muito útil para nós fazermos predições tomadas por variáveis categóricas. Portanto, apesar do nome, é um modelo interessante para problemas de classificação, como é o caso de nosso projeto."
      ],
      "metadata": {
        "id": "OAA6T7zClKFa"
      }
    },
    {
      "cell_type": "code",
      "source": [
        "# Testando e treinando o Modelo de Regressão Logística:\n",
        "print ('Regressão Logística: \\n')\n",
        "LR = LogisticRegression() # Definição do modelo\n",
        "LR_pipeline = make_pipeline (LR) # Pipeline\n",
        "LR_train = LR_pipeline.fit (X_train, Y_train) # Treino\n",
        "LR_test = LR_pipeline.predict (X_test) # Teste\n",
        "LR_score = LR_pipeline.score (X_test, Y_test) # Acurácia\n",
        "print (f'Acurácia: {LR_score}')\n",
        "print (f'F1 Score: {f1_score(Y_test, LR_test, average=\"weighted\")}')\n",
        "print (f'Precision Score: {precision_score(Y_test, LR_test, average=\"weighted\")}')\n",
        "print (f'Recall Score: {recall_score(Y_test, LR_test, average=\"weighted\")}')"
      ],
      "metadata": {
        "colab": {
          "base_uri": "https://localhost:8080/"
        },
        "id": "LbZ6pfnDlR74",
        "outputId": "476c4156-b473-4b88-93ee-91e792583950"
      },
      "execution_count": null,
      "outputs": [
        {
          "output_type": "stream",
          "name": "stdout",
          "text": [
            "Regressão Logística: \n",
            "\n",
            "Acurácia: 1.0\n",
            "F1 Score: 1.0\n",
            "Precision Score: 1.0\n",
            "Recall Score: 1.0\n"
          ]
        }
      ]
    },
    {
      "cell_type": "markdown",
      "source": [
        "Pelos resultados acima, o resultado foi excepcional. Mas será que foram resultados confiáveis? Pode ter acontecido a hipótese de overfitting ao modelo?\n",
        "Se houve, como podemos tentar mitigar isso?\n",
        "Para tanto, podemos efetuar uma separação manual destes dados de treinamento e teste pois, neste tipo de situação, um time pode começar bem e depois ir mal na temporada ou vice-versa. Estas oscilações podem interferir nas análises."
      ],
      "metadata": {
        "id": "6tkGtdoaGGiX"
      }
    },
    {
      "cell_type": "markdown",
      "source": [
        "**Voltando ao 5º Passo:**"
      ],
      "metadata": {
        "id": "ZpoEBhPAJKHg"
      }
    },
    {
      "cell_type": "code",
      "source": [
        "# Separação manual, haja vista a presença de informação temporal, conforme explicado acima (Proporção 70 / 30)\n",
        "# Treino: [:3415]\n",
        "# Teste: [3415:4635]\n",
        "# Previsão: [4635:4879] (Este intervalo funcionará como uma validação dos dados, ou seja, o modelo será posto à prova com dados até então não vistos)\n",
        "X_train = features_scale [:3415]\n",
        "X_test = features_scale [3415:4635]\n",
        "Y_train = target [:3415]\n",
        "Y_test = target [3415:4635]\n",
        "print (f' Comprimento do X_train: {len(X_train)}')\n",
        "print (f' Comprimento do X_test: {len(X_test)}')\n",
        "print (f' Comprimeiro do Y_train: {len(Y_train)}')\n",
        "print (f' Comprimento do Y_test: {len(Y_test)}')"
      ],
      "metadata": {
        "colab": {
          "base_uri": "https://localhost:8080/"
        },
        "id": "TS1SGkxDJvIO",
        "outputId": "e5fb0af5-5e5d-4a24-c1d3-6982203ebc5c"
      },
      "execution_count": null,
      "outputs": [
        {
          "output_type": "stream",
          "name": "stdout",
          "text": [
            " Comprimento do X_train: 3415\n",
            " Comprimento do X_test: 1220\n",
            " Comprimeiro do Y_train: 3415\n",
            " Comprimento do Y_test: 1220\n"
          ]
        }
      ]
    },
    {
      "cell_type": "markdown",
      "source": [
        "**6º Passo:**\n",
        "\n",
        "a) Aplicando novamente a Regressão Logística:"
      ],
      "metadata": {
        "id": "cQw1EsEk1fR6"
      }
    },
    {
      "cell_type": "code",
      "source": [
        "print ('Regressão Logística: \\n')\n",
        "LR = LogisticRegression (multi_class = 'multinomial', max_iter = 2000) # Classificação para 3 tipos diferentes: Empate, vitória ou derrota\n",
        "LR.fit(X_train, Y_train)\n",
        "pred= LR.predict(X_test)\n",
        "lg_acc = accuracy_score(Y_test, pred)\n",
        "f1=f1_score(Y_test,pred,average = 'micro') # Soma das métricas Precision e Recall\n",
        "print ('Acurácia Regressão Logística: {}'.format(lg_acc))\n",
        "print ('F1 Score: {}'.format(f1) )"
      ],
      "metadata": {
        "id": "lcTvc9k-2YZO",
        "colab": {
          "base_uri": "https://localhost:8080/"
        },
        "outputId": "c4e60a5e-3f1a-4559-9221-8323db923c15"
      },
      "execution_count": null,
      "outputs": [
        {
          "output_type": "stream",
          "name": "stdout",
          "text": [
            "Regressão Logística: \n",
            "\n",
            "Acurácia Regressão Logística: 1.0\n",
            "F1 Score: 1.0\n"
          ]
        }
      ]
    },
    {
      "cell_type": "markdown",
      "source": [
        "Veja que, mesmo na separação manual entre treino e teste, continuamos a obter um resultado excepcional. A Regressão Logística pode ser uma ótima alternativa na escolha das predições."
      ],
      "metadata": {
        "id": "2VRyWSXQ7ltJ"
      }
    },
    {
      "cell_type": "markdown",
      "source": [
        "a.1 ) Colocando hiperparâmetros para melhorar ainda mais o modelo:"
      ],
      "metadata": {
        "id": "5NKtkjouxbfq"
      }
    },
    {
      "cell_type": "code",
      "source": [
        "# Testando hiperparâmetros da Regressão Logística:\n",
        "param_grid = {'C': [0.001, 0.01, 0.1, 1, 10, 100, 1000] } # Balanceamento para evitar overfitting e underfitting\n",
        "search = GridSearchCV(LogisticRegression(max_iter=1000), param_grid) # Para verificar qual o melhor hiperparâmetro\n",
        "search.fit(X_train,Y_train)\n",
        "clf_LR = search.best_estimator_\n",
        "pred= clf_LR.predict(X_test)\n",
        "lg_acc = accuracy_score(Y_test, pred) # Acurácia\n",
        "f1=f1_score(Y_test,pred,average = 'macro')\n",
        "print ('Acurácia da Regressão Logística: {}'.format(lg_acc))\n",
        "print ('F1 Score: {}'.format(f1) )\n",
        "print (clf_LR)"
      ],
      "metadata": {
        "colab": {
          "base_uri": "https://localhost:8080/"
        },
        "id": "YT-wrNzYSqr8",
        "outputId": "c0edd168-4e8e-4553-ca01-89d99b7693ab"
      },
      "execution_count": null,
      "outputs": [
        {
          "output_type": "stream",
          "name": "stdout",
          "text": [
            "Acurácia da Regressão Logística: 1.0\n",
            "F1 Score: 1.0\n",
            "LogisticRegression(C=100, max_iter=1000)\n"
          ]
        }
      ]
    },
    {
      "cell_type": "markdown",
      "source": [
        "Após todas as tratativas, continuamos com performance excepcional. O modelo parece estar, de fato, bem aderente aos dados."
      ],
      "metadata": {
        "id": "eo8UrPYMyPh-"
      }
    },
    {
      "cell_type": "markdown",
      "source": [
        "Vamos agora realizar o mesmo processo com outros modelos, a título de comparação de performance."
      ],
      "metadata": {
        "id": "bi2mWQppEe11"
      }
    },
    {
      "cell_type": "markdown",
      "source": [
        "b) Aplicação com o Modelo SVM (Support Vector Machine):"
      ],
      "metadata": {
        "id": "wzgD3iRN93Ze"
      }
    },
    {
      "cell_type": "code",
      "source": [
        "# Treinando e testando o modelo SVM:\n",
        "print ('SVM')\n",
        "clf = SVC()\n",
        "clf.fit(X_train, Y_train)\n",
        "pred= clf.predict(X_test)\n",
        "svc_acc = accuracy_score(Y_test, pred)\n",
        "f1=f1_score(Y_test,pred, average='micro')\n",
        "print ('Acurácia SVM: {}'.format(svc_acc))\n",
        "print ('F1 Score: {}'.format(f1) )"
      ],
      "metadata": {
        "colab": {
          "base_uri": "https://localhost:8080/"
        },
        "id": "yh-DYN94TTLq",
        "outputId": "61e4a623-8794-4acf-a52e-282adc32d45f"
      },
      "execution_count": null,
      "outputs": [
        {
          "output_type": "stream",
          "name": "stdout",
          "text": [
            "SVM\n",
            "Acurácia SVM: 0.9983606557377049\n",
            "F1 Score: 0.9983606557377049\n"
          ]
        }
      ]
    },
    {
      "cell_type": "markdown",
      "source": [
        "Obtivemos, também, uma excelente performance com o Modelo SVM."
      ],
      "metadata": {
        "id": "YzmkP30vzSo4"
      }
    },
    {
      "cell_type": "markdown",
      "source": [
        "b.1) Colocação dos hiperparâmetros:"
      ],
      "metadata": {
        "id": "JvG-pmm5zalZ"
      }
    },
    {
      "cell_type": "code",
      "source": [
        "# Testando hiperparâmetros do modelo SVM:\n",
        "param_grid = {'C': [0.001, 0.01, 0.1, 1, 10, 100, 1000] }\n",
        "search = GridSearchCV(SVC(), param_grid)\n",
        "search.fit(X_train,Y_train)\n",
        "clf_SVC = search.best_estimator_\n",
        "pred= clf_SVC.predict(X_test)\n",
        "acc = accuracy_score(Y_test, pred)\n",
        "f1=f1_score(Y_test,pred,average = 'micro')\n",
        "print ('F1 Score: {}'.format(f1))\n",
        "print ('Acurácia SVM: {}'.format(acc))\n",
        "print(clf_SVC)"
      ],
      "metadata": {
        "colab": {
          "base_uri": "https://localhost:8080/"
        },
        "id": "IZ23SuOUUC9-",
        "outputId": "b2bd418e-4aef-4777-b15b-242fdcb245df"
      },
      "execution_count": null,
      "outputs": [
        {
          "output_type": "stream",
          "name": "stdout",
          "text": [
            "F1 Score: 0.9991803278688525\n",
            "Acurácia SVM: 0.9991803278688525\n",
            "SVC(C=10)\n"
          ]
        }
      ]
    },
    {
      "cell_type": "markdown",
      "source": [
        "No Modelo SVM também obtivemos uma performance excepcional, com 99,9% de precisão. Se formos muito detalhistas, obtivemos até uma pequena melhora (0,08%) após a colocação dos hiperrâmetros, deixando-o ainda malhor do que já estava."
      ],
      "metadata": {
        "id": "xJ3i2Su1HFE9"
      }
    },
    {
      "cell_type": "markdown",
      "source": [
        "c ) Aplicação com o Modelo de Decision Tree (Árvore de Decisão):"
      ],
      "metadata": {
        "id": "GPsXuaXSHUFy"
      }
    },
    {
      "cell_type": "code",
      "source": [
        "# Treinando e testando o modelo da Árvore de Decisão:\n",
        "print ('Árvore de Decisão:')\n",
        "clf = DecisionTreeClassifier()\n",
        "clf.fit(X_train, Y_train)\n",
        "pred= clf.predict(X_test)\n",
        "dt_acc = accuracy_score(Y_test, pred)\n",
        "f1=f1_score(Y_test,pred, average='macro')\n",
        "print ('Acurácia Árvore de Decisão: {}'.format(dt_acc))\n",
        "print ('F1 Score: {}'.format(f1) )\n",
        "n_estimators = [10, 50, 100, 200]\n",
        "max_depth = [3, 10, 20, 40]"
      ],
      "metadata": {
        "colab": {
          "base_uri": "https://localhost:8080/"
        },
        "id": "2nFDSSULUkVp",
        "outputId": "eb39fa9a-f803-457c-c573-06c54468dcc8"
      },
      "execution_count": null,
      "outputs": [
        {
          "output_type": "stream",
          "name": "stdout",
          "text": [
            "Árvore de Decisão:\n",
            "Acurácia Árvore de Decisão: 1.0\n",
            "F1 Score: 1.0\n"
          ]
        }
      ]
    },
    {
      "cell_type": "markdown",
      "source": [
        "c.1 ) Colocação dos hiperparâmetros:"
      ],
      "metadata": {
        "id": "QdJpa471hk3T"
      }
    },
    {
      "cell_type": "code",
      "source": [
        "# Testando hiperparâmetros para a Árvore de Decisão:\n",
        "print ('Árvore de Decisão')\n",
        "param_grid = {\n",
        "    'max_depth': [80, 90, 100, 110],\n",
        "    'max_features': [2, 3],\n",
        "    'min_samples_leaf': [3, 4, 5], # Número de folhas utilizadas para o teste\n",
        "    'min_samples_split': [8, 10, 12] # Em quantos ramos a árvore vai abrir os resultados\n",
        "}\n",
        "search = GridSearchCV(DecisionTreeClassifier(), param_grid)\n",
        "search.fit(X_train,Y_train)\n",
        "clf = search.best_estimator_\n",
        "pred= clf.predict(X_test)\n",
        "dt_acc = accuracy_score(Y_test, pred)\n",
        "f1=f1_score(Y_test,pred,average = 'micro')\n",
        "print ('Acurácia Árvore de Decisão: {}'.format(dt_acc))\n",
        "print ('F1 Score: {}'.format(f1) )\n",
        "print (clf)"
      ],
      "metadata": {
        "colab": {
          "base_uri": "https://localhost:8080/"
        },
        "id": "WPO4dQwLVNMe",
        "outputId": "d67ae7ba-1f38-49a2-f9e4-7a4fb85a27be"
      },
      "execution_count": null,
      "outputs": [
        {
          "output_type": "stream",
          "name": "stdout",
          "text": [
            "Árvore de Decisão\n",
            "Acurácia Árvore de Decisão: 0.930327868852459\n",
            "F1 Score: 0.930327868852459\n",
            "DecisionTreeClassifier(max_depth=80, max_features=3, min_samples_leaf=4,\n",
            "                       min_samples_split=8)\n"
          ]
        }
      ]
    },
    {
      "cell_type": "markdown",
      "source": [
        "No Modelo de Árvore de Decisão, obtivemos também um resultado muito bom. Mais baixo, é verdade, que o modelo SVM porém, ainda assim, com performance muito aceitável nos testes (variando entre 84 a 93%)"
      ],
      "metadata": {
        "id": "pyzCMubgIc2c"
      }
    },
    {
      "cell_type": "markdown",
      "source": [
        "d ) Aplicação com o Modelo Naive Bayes:"
      ],
      "metadata": {
        "id": "0MWmNwuKIthY"
      }
    },
    {
      "cell_type": "code",
      "source": [
        "# Treinando e testando o modelo Naive Bayes:\n",
        "print ('Naive Bayes')\n",
        "clf = GaussianNB()\n",
        "clf.fit(X_train, Y_train)\n",
        "pred= clf.predict(X_test)\n",
        "nb_acc = accuracy_score(Y_test, pred)\n",
        "f1=f1_score(Y_test,pred, average='micro')\n",
        "print ('Acurácia Naive Bayes: {}'.format(nb_acc))\n",
        "print ('F1 Score: {}'.format(f1) )"
      ],
      "metadata": {
        "colab": {
          "base_uri": "https://localhost:8080/"
        },
        "id": "7iSc1EGbXDJi",
        "outputId": "8ea05846-5617-4c7e-98ac-d0f35c8a7293"
      },
      "execution_count": null,
      "outputs": [
        {
          "output_type": "stream",
          "name": "stdout",
          "text": [
            "Naive Bayes\n",
            "Acurácia Naive Bayes: 0.6598360655737705\n",
            "F1 Score: 0.6598360655737705\n"
          ]
        }
      ]
    },
    {
      "cell_type": "markdown",
      "source": [
        "Com o Naive Bayes, obtivemos resultados não tão bons no treinamento, isso comparado aos demais modelos (aproximadamente 66% de performance). Vamos ver, com a introdução dos hiperparâmetros, se esta condição melhora."
      ],
      "metadata": {
        "id": "VdzghZ1jJmJ7"
      }
    },
    {
      "cell_type": "markdown",
      "source": [
        "d.1 ) Colocação dos hiperparâmetros:"
      ],
      "metadata": {
        "id": "V0wLkjONiKBs"
      }
    },
    {
      "cell_type": "code",
      "source": [
        "# Testando hiperparâmetros para Naive Bayes:\n",
        "param_grid = {'var_smoothing': [0.001, 0.01, 0.1, 1, 10, 100, 1000] } # Aqui não funciona o parâmetro 'C' como no SVM e Regreessão Logística\n",
        "search = GridSearchCV(GaussianNB(), param_grid)\n",
        "search.fit(X_train,Y_train)\n",
        "clf_GaussianNB = search.best_estimator_\n",
        "pred= clf_GaussianNB.predict(X_test)\n",
        "acc = accuracy_score(Y_test, pred)\n",
        "f1=f1_score(Y_test,pred,average = 'micro')\n",
        "print ('F1 Score: {}'.format(f1))\n",
        "print ('Acurácia Naive Bayes: {}'.format(acc))\n",
        "print(clf_GaussianNB)"
      ],
      "metadata": {
        "colab": {
          "base_uri": "https://localhost:8080/"
        },
        "id": "2jMOYQmrD3_g",
        "outputId": "99ae5226-edb1-4321-a57b-a8d9f3c75ad7"
      },
      "execution_count": null,
      "outputs": [
        {
          "output_type": "stream",
          "name": "stdout",
          "text": [
            "F1 Score: 0.7680327868852459\n",
            "Acurácia Naive Bayes: 0.7680327868852459\n",
            "GaussianNB(var_smoothing=1)\n"
          ]
        }
      ]
    },
    {
      "cell_type": "markdown",
      "source": [
        "Após a introdução dos hiperparâmetros, obtivemos melhora considerável no teste em relação ao treinamento. No entanto, com resultado ainda abaixo se comparado aos demais modelos."
      ],
      "metadata": {
        "id": "N2iB0nvPGBGm"
      }
    },
    {
      "cell_type": "markdown",
      "source": [
        "**7º Passo: Com os modelos devidamente treinados e testados, vamos executar as previsões, ou seja, com dados diferentes até então não vistos.**"
      ],
      "metadata": {
        "id": "u7zsGr8TJ4cH"
      }
    },
    {
      "cell_type": "markdown",
      "source": [
        "a) Com o Modelo de Regressão Logística:"
      ],
      "metadata": {
        "id": "85qcdY1BJ1-x"
      }
    },
    {
      "cell_type": "code",
      "source": [
        "# Executando a previsão:\n",
        "previsao=features_scale[4635:] # Lista de onde eu quero que faça a previsão\n",
        "res_full=dataset['Res']\n",
        "res=res_full[4635:]\n",
        "pred = clf_LR.predict(previsao)\n",
        "df_LR=pd.DataFrame({'real': res, 'previsao':pred})\n",
        "print(df_LR)"
      ],
      "metadata": {
        "colab": {
          "base_uri": "https://localhost:8080/"
        },
        "id": "X6hXfHSUaZDp",
        "outputId": "d68ceccb-e22c-45b9-8755-a53ed77abe4c"
      },
      "execution_count": null,
      "outputs": [
        {
          "output_type": "stream",
          "name": "stdout",
          "text": [
            "      real  previsao\n",
            "4635   1.0       1.0\n",
            "4636   2.0       2.0\n",
            "4637   0.0       0.0\n",
            "4638   0.0       0.0\n",
            "4639   1.0       1.0\n",
            "...    ...       ...\n",
            "4874   2.0       2.0\n",
            "4875   1.0       1.0\n",
            "4876   1.0       1.0\n",
            "4877   1.0       1.0\n",
            "4878   2.0       2.0\n",
            "\n",
            "[244 rows x 2 columns]\n"
          ]
        }
      ]
    },
    {
      "cell_type": "markdown",
      "source": [
        "Nessa pequena amostragem, de 10 resultados, nosso modelo acertou todos. Ou seja, está bem performado. Podemos utilizar este modelo para fazer os palpites."
      ],
      "metadata": {
        "id": "rU0592b8K40f"
      }
    },
    {
      "cell_type": "markdown",
      "source": [
        "b) Com o Modelo SVM:"
      ],
      "metadata": {
        "id": "lv6gNldhOx_d"
      }
    },
    {
      "cell_type": "code",
      "source": [
        "# Executando a previsão:\n",
        "previsao=features_scale[4635:]\n",
        "res_full=dataset['Res']\n",
        "res=res_full[4635:]\n",
        "pred = clf_SVC.predict(previsao)\n",
        "df_SVC=pd.DataFrame({'real': res, 'previsao':pred})\n",
        "print(df_SVC)"
      ],
      "metadata": {
        "colab": {
          "base_uri": "https://localhost:8080/"
        },
        "id": "rx57jfrAO-AP",
        "outputId": "46a34224-8cef-4e1d-b5bd-328205ff85e3"
      },
      "execution_count": null,
      "outputs": [
        {
          "output_type": "stream",
          "name": "stdout",
          "text": [
            "      real  previsao\n",
            "4635   1.0       1.0\n",
            "4636   2.0       2.0\n",
            "4637   0.0       0.0\n",
            "4638   0.0       0.0\n",
            "4639   1.0       1.0\n",
            "...    ...       ...\n",
            "4874   2.0       2.0\n",
            "4875   1.0       1.0\n",
            "4876   1.0       1.0\n",
            "4877   1.0       1.0\n",
            "4878   2.0       2.0\n",
            "\n",
            "[244 rows x 2 columns]\n"
          ]
        }
      ]
    },
    {
      "cell_type": "markdown",
      "source": [
        "Igualmente observamos no Modelo SVM performance excepcional. Portanto, seus resultados estão bem aderentes com as predições."
      ],
      "metadata": {
        "id": "bX4K3vt5ZQaX"
      }
    },
    {
      "cell_type": "markdown",
      "source": [
        "c) Com a Árvore de Decisão:"
      ],
      "metadata": {
        "id": "n71YB8U4UZf2"
      }
    },
    {
      "cell_type": "code",
      "source": [
        "# Executando a previsão:\n",
        "previsao=features_scale[4635:]\n",
        "res_full=dataset['Res']\n",
        "res=res_full[4635:]\n",
        "pred = clf.predict(previsao)\n",
        "df=pd.DataFrame({'real': res, 'previsao':pred})\n",
        "print(df)"
      ],
      "metadata": {
        "colab": {
          "base_uri": "https://localhost:8080/"
        },
        "id": "mAOMp70uUfKE",
        "outputId": "03775e9b-b8a7-4a85-8e40-ab841a81e458"
      },
      "execution_count": null,
      "outputs": [
        {
          "output_type": "stream",
          "name": "stdout",
          "text": [
            "      real  previsao\n",
            "4635   1.0       1.0\n",
            "4636   2.0       2.0\n",
            "4637   0.0       0.0\n",
            "4638   0.0       2.0\n",
            "4639   1.0       0.0\n",
            "...    ...       ...\n",
            "4874   2.0       2.0\n",
            "4875   1.0       1.0\n",
            "4876   1.0       1.0\n",
            "4877   1.0       0.0\n",
            "4878   2.0       2.0\n",
            "\n",
            "[244 rows x 2 columns]\n"
          ]
        }
      ]
    },
    {
      "cell_type": "markdown",
      "source": [
        "No modelo de Árvore de Decisão, já podemos observar a presença de alguns erros nesta pequena amostragem. Todavia, ele está acertando em sua maioria."
      ],
      "metadata": {
        "id": "sJiLreJuZvy8"
      }
    },
    {
      "cell_type": "markdown",
      "source": [
        "d) Com o Naive Bayes:"
      ],
      "metadata": {
        "id": "sP64LxjtXyCZ"
      }
    },
    {
      "cell_type": "code",
      "source": [
        "# Executando a previsão:\n",
        "previsao=features_scale[4635:]\n",
        "res_full=dataset['Res']\n",
        "res=res_full[4635:]\n",
        "pred = clf_GaussianNB.predict(previsao)\n",
        "df_GaussianNB=pd.DataFrame({'real': res, 'previsao':pred})\n",
        "print(df_GaussianNB)"
      ],
      "metadata": {
        "colab": {
          "base_uri": "https://localhost:8080/"
        },
        "id": "YLlm14Y5X2BO",
        "outputId": "f6841c8d-f478-400a-8d6b-1b4dfdf35e56"
      },
      "execution_count": null,
      "outputs": [
        {
          "output_type": "stream",
          "name": "stdout",
          "text": [
            "      real  previsao\n",
            "4635   1.0       1.0\n",
            "4636   2.0       2.0\n",
            "4637   0.0       0.0\n",
            "4638   0.0       2.0\n",
            "4639   1.0       1.0\n",
            "...    ...       ...\n",
            "4874   2.0       2.0\n",
            "4875   1.0       1.0\n",
            "4876   1.0       1.0\n",
            "4877   1.0       1.0\n",
            "4878   2.0       0.0\n",
            "\n",
            "[244 rows x 2 columns]\n"
          ]
        }
      ]
    },
    {
      "cell_type": "markdown",
      "source": [
        "No Naive Bayes, também obtivemos alta porcentagem de acertos, sendo, portanto, compatível com as suas predições."
      ],
      "metadata": {
        "id": "FbqmXRCXZ6Tu"
      }
    },
    {
      "cell_type": "markdown",
      "source": [
        "**8º Passo: Matriz de Confusão:**"
      ],
      "metadata": {
        "id": "-yN8bG4KLfkx"
      }
    },
    {
      "cell_type": "markdown",
      "source": [
        "A Matriz de Confusão é útil para visualizarmos com maior clareza os resultados obtidos das previsões. Vamos plotar as matrizes para cada modelo que fora utilizado neste projeto."
      ],
      "metadata": {
        "id": "IbEDlh9-aEZo"
      }
    },
    {
      "cell_type": "code",
      "source": [
        "# Matriz de Confusão Regressão Logística:\n",
        "df_LR=pd.DataFrame(df_LR,columns=['real','previsao' ])\n",
        "cf_matrix=pd.crosstab(df_LR['real'], df_LR['previsao'], rownames=['real'] , colnames=['previsao'])\n",
        "sns.heatmap(cf_matrix, annot=True, cmap='Reds')"
      ],
      "metadata": {
        "colab": {
          "base_uri": "https://localhost:8080/",
          "height": 467
        },
        "id": "zYEusxotjvm8",
        "outputId": "162d347d-4f46-4532-91e1-0abc6d6f7a72"
      },
      "execution_count": null,
      "outputs": [
        {
          "output_type": "execute_result",
          "data": {
            "text/plain": [
              "<Axes: xlabel='previsao', ylabel='real'>"
            ]
          },
          "metadata": {},
          "execution_count": 165
        },
        {
          "output_type": "display_data",
          "data": {
            "text/plain": [
              "<Figure size 640x480 with 2 Axes>"
            ],
            "image/png": "[encoded data removed]"
          },
          "metadata": {}
        }
      ]
    },
    {
      "cell_type": "markdown",
      "source": [
        "Pela Matriz de Confusão acima, a Regressão Logística está plenamente funcional, ou seja, previu todos os resultados corretamente.  61 resultados que foram empates, 120 resultados com vitória do time mandante e 59 resultados com vitória do time visitante. Não houve erros."
      ],
      "metadata": {
        "id": "bk9WokaRPXEv"
      }
    },
    {
      "cell_type": "code",
      "source": [
        "# Matriz de Confusão SVM:\n",
        "df_SVC=pd.DataFrame(df_SVC,columns=['real','previsao' ])\n",
        "cf_matrix=pd.crosstab(df_SVC['real'], df_SVC['previsao'], rownames=['real'] , colnames=['previsao'])\n",
        "sns.heatmap(cf_matrix, annot=True, cmap='Reds')"
      ],
      "metadata": {
        "colab": {
          "base_uri": "https://localhost:8080/",
          "height": 467
        },
        "id": "jLt2Va6CRsQ1",
        "outputId": "f6e72e56-083b-4a91-8ea9-0e8a8afaa5c5"
      },
      "execution_count": null,
      "outputs": [
        {
          "output_type": "execute_result",
          "data": {
            "text/plain": [
              "<Axes: xlabel='previsao', ylabel='real'>"
            ]
          },
          "metadata": {},
          "execution_count": 166
        },
        {
          "output_type": "display_data",
          "data": {
            "text/plain": [
              "<Figure size 640x480 with 2 Axes>"
            ],
            "image/png": "[encoded data removed]"
          },
          "metadata": {}
        }
      ]
    },
    {
      "cell_type": "markdown",
      "source": [
        "Idem à Regressão Logística. Ou seja, este modelo também está muito bem performado."
      ],
      "metadata": {
        "id": "kd8avMIUSFMJ"
      }
    },
    {
      "cell_type": "code",
      "source": [
        "# Matriz de Confusão Árvore de Decisão:\n",
        "df=pd.DataFrame(df,columns=['real','previsao' ])\n",
        "cf_matrix=pd.crosstab(df['real'], df['previsao'], rownames=['real'] , colnames=['previsao'])\n",
        "sns.heatmap(cf_matrix, annot=True, cmap='Reds')"
      ],
      "metadata": {
        "colab": {
          "base_uri": "https://localhost:8080/",
          "height": 467
        },
        "id": "cnXI70IIUxf_",
        "outputId": "bbf32c68-b7b4-4ba9-f7a6-8982615f23c4"
      },
      "execution_count": null,
      "outputs": [
        {
          "output_type": "execute_result",
          "data": {
            "text/plain": [
              "<Axes: xlabel='previsao', ylabel='real'>"
            ]
          },
          "metadata": {},
          "execution_count": 167
        },
        {
          "output_type": "display_data",
          "data": {
            "text/plain": [
              "<Figure size 640x480 with 2 Axes>"
            ],
            "image/png": "[encoded data removed]"
          },
          "metadata": {}
        }
      ]
    },
    {
      "cell_type": "markdown",
      "source": [
        "Já na Árvore de Decisão, percebemos que houve algumas predições que não foram corretas. Apesar de uma boa performance nas previsões, foi um pouco abaixo em relação ao treinamento e teste."
      ],
      "metadata": {
        "id": "H2iyydijTT6i"
      }
    },
    {
      "cell_type": "code",
      "source": [
        "# Matriz de Confusão Naive Bayes:\n",
        "df_GaussianNB=pd.DataFrame(df_GaussianNB,columns=['real','previsao' ])\n",
        "cf_matrix=pd.crosstab(df_GaussianNB['real'], df_GaussianNB['previsao'], rownames=['real'] , colnames=['previsao'])\n",
        "sns.heatmap(cf_matrix, annot=True, cmap='Reds')"
      ],
      "metadata": {
        "colab": {
          "base_uri": "https://localhost:8080/",
          "height": 467
        },
        "id": "7ISRZ238YO4l",
        "outputId": "db5fc8a1-3e67-45fe-b0ae-153e142a2224"
      },
      "execution_count": null,
      "outputs": [
        {
          "output_type": "execute_result",
          "data": {
            "text/plain": [
              "<Axes: xlabel='previsao', ylabel='real'>"
            ]
          },
          "metadata": {},
          "execution_count": 168
        },
        {
          "output_type": "display_data",
          "data": {
            "text/plain": [
              "<Figure size 640x480 with 2 Axes>"
            ],
            "image/png": "[encoded data removed]"
          },
          "metadata": {}
        }
      ]
    },
    {
      "cell_type": "markdown",
      "source": [
        "Já no Naive Bayes, também obtivemos algumas predições incorretas. No entanto, estão condizentes com o treinamento e teste realizado, além de uma boa performance no geral."
      ],
      "metadata": {
        "id": "wSWL8DIEWaxX"
      }
    },
    {
      "cell_type": "markdown",
      "source": [
        "# **Conclusão:**"
      ],
      "metadata": {
        "id": "Dl12qP-wccg0"
      }
    },
    {
      "cell_type": "markdown",
      "source": [
        "Analisando as matrizes plotadas acima, notamos o grande destaque da Regressão Logística e do SVM, cujas previsões foram acertadas à risca e estão bem aderentes. Quanto aos demais modelos, eles estão com uma porcentagem bastante aceitável de acertos, embora o modelo de Árvore de Decisão foi o que teve a performance mais baixa nas previsões.\n",
        "Para fins de utilização de nosso projeto, dadas às características iniciais, seria melhor optar pela Regressão Logística ou SVM.\n",
        "Contudo, o esporte, em si, é recheado de incertezas (a priori). Então, nada pode ser garantido. Este projeto teve o intuito de tentar eliminar um pouco essas incertezas para se ter maior probabilidade de acerto nas previsões de resultado. E acredito que o mesmo obteve êxito na sua proposta.\n",
        "Lembrando sempre que fica a critério do usuário utilizá-lo para tentar melhorar as suas análises e apostas ou se apenas continua interagindo através do coração e emoção, o que também faz parte do contexto para quem é apaixonado pelo esporte.\n"
      ],
      "metadata": {
        "id": "WoEfleQXa1r1"
      }
    }
  ]
}